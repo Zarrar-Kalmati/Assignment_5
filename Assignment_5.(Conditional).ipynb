{
 "cells": [
  {
   "cell_type": "markdown",
   "id": "0a635711-e685-4211-a5b5-27090870081c",
   "metadata": {},
   "source": [
    "## 1. Write a program that prompts the user to input a number and display if the number is even or odd. "
   ]
  },
  {
   "cell_type": "code",
   "execution_count": 5,
   "id": "6379f41b-a63b-4c4a-89b8-2597c361d4a5",
   "metadata": {},
   "outputs": [
    {
     "name": "stdin",
     "output_type": "stream",
     "text": [
      "Enter any Positive Number: 2\n"
     ]
    },
    {
     "name": "stdout",
     "output_type": "stream",
     "text": [
      "The number is 2 is even\n"
     ]
    }
   ],
   "source": [
    "num=int(input(\"Enter any Positive Number:\"))\n",
    "if num % 2:\n",
    "    print(f\"The number {num} is odd\")\n",
    "else:\n",
    "    print(f\"The number is {num} is even\")\n"
   ]
  },
  {
   "cell_type": "markdown",
   "id": "798e25e0-2636-4984-8205-d62dc2e828aa",
   "metadata": {},
   "source": [
    "## 2. Write a Python program that takes an age as input and determines whether a person\n",
    "is eligible to vote. If the age is 18 or above, print \"You are eligible to vote.\" Otherwise,\n",
    "print \"You are not eligible to vote yet.\"."
   ]
  },
  {
   "cell_type": "code",
   "execution_count": 7,
   "id": "6b3b2399-02e4-4c91-8b64-bd6420fb08e3",
   "metadata": {},
   "outputs": [
    {
     "name": "stdin",
     "output_type": "stream",
     "text": [
      "Enter your age: 18\n"
     ]
    },
    {
     "name": "stdout",
     "output_type": "stream",
     "text": [
      "You are eligible to vote\n"
     ]
    }
   ],
   "source": [
    "age=float(input(\"Enter your age:\"))\n",
    "if age >= 18:\n",
    "    print(\"You are eligible to vote\")\n",
    "else:\n",
    "    print(\"You are not eligible to vote\")"
   ]
  },
  {
   "cell_type": "markdown",
   "id": "1d707e04-989e-4272-9cfa-ef1d593ad15c",
   "metadata": {},
   "source": [
    "## 3. Write a program that prompts the user to input two integers and outputs the largest."
   ]
  },
  {
   "cell_type": "code",
   "execution_count": 8,
   "id": "9ca98e23-33c2-4f0c-8e51-7631c7964336",
   "metadata": {},
   "outputs": [
    {
     "name": "stdin",
     "output_type": "stream",
     "text": [
      "Enter your fisrt Number: 5\n",
      "Enter your second Number: 3\n"
     ]
    },
    {
     "name": "stdout",
     "output_type": "stream",
     "text": [
      "The First number is greater...\n"
     ]
    }
   ],
   "source": [
    "n1=float(input(\"Enter your fisrt Number:\"))\n",
    "n2=float(input(\"Enter your second Number:\"))\n",
    "if n1>n2:\n",
    "    print(\"The First number is greater...\")\n",
    "else:\n",
    "    print(\"The second number is greater..\")"
   ]
  },
  {
   "cell_type": "markdown",
   "id": "cad13bf0-4a24-4c06-bfcc-645151d013b1",
   "metadata": {},
   "source": [
    "## 4. Write a program that prompts the user to enter a number and determines whether it\n",
    "is positive, negative, or zero. The program should print \"Positive\" if the number is\n",
    "greater than 0, \"Negative\" if the number is less than 0, and \"Zero\" if the number is 0. "
   ]
  },
  {
   "cell_type": "code",
   "execution_count": 17,
   "id": "8b918118-f62c-4b9b-8327-73d2d3c1ccd0",
   "metadata": {},
   "outputs": [
    {
     "name": "stdin",
     "output_type": "stream",
     "text": [
      "Enter any Number: 0\n"
     ]
    },
    {
     "name": "stdout",
     "output_type": "stream",
     "text": [
      "The Number Is Zero\n"
     ]
    }
   ],
   "source": [
    "num=float(input(\"Enter any Number:\"))\n",
    "if num>=1:\n",
    "    print(\"The number is Positive\")\n",
    "elif num == 0:\n",
    "    print(\"The Number Is Zero\")\n",
    "elif num<1:\n",
    "    print(\"THe Number is Negative\")"
   ]
  },
  {
   "cell_type": "markdown",
   "id": "bba1313b-3ab2-480b-9591-976e2b343fe1",
   "metadata": {},
   "source": [
    "## 5. Write a program that prompts the user to enter their age and prints the\n",
    "corresponding age group. The program should use the following age groups:\n",
    "0-12: Child\n",
    "13-19: Teenager\n",
    "20-59: Adult\n",
    "60 and above: Senior Citizen \n"
   ]
  },
  {
   "cell_type": "code",
   "execution_count": 22,
   "id": "160ebc97-3cc7-4b0e-afa7-89e17b50bf2c",
   "metadata": {},
   "outputs": [
    {
     "name": "stdin",
     "output_type": "stream",
     "text": [
      "Enter Your Age: 60\n"
     ]
    },
    {
     "name": "stdout",
     "output_type": "stream",
     "text": [
      "You are a Senior Citizen..\n"
     ]
    }
   ],
   "source": [
    "age=float(input(\"Enter Your Age:\"))\n",
    "if age >0 and age <=12:\n",
    "    print(\"You are a Child..\")\n",
    "elif age>=13 and age <=19:\n",
    "    print(\"You are a Teenager..\")\n",
    "elif age>=20 and age <=59:\n",
    "    print(\"You are an Adult...\")\n",
    "else:\n",
    "    print(\"You are a Senior Citizen..\")"
   ]
  },
  {
   "cell_type": "markdown",
   "id": "fe1d3a74-b7c3-4773-b6d3-f217c857abb6",
   "metadata": {},
   "source": [
    "## 6. Write a program that prompts the user to input a number from 1 to 7. The program\n",
    "should display the corresponding day for the given number. For example, if the user\n",
    "types 1, the output should be Sunday. If the user types 7, the output should be\n",
    "Saturday. If the number is not between 1 to 7 user should get error message as shown\n",
    "in sample output."
   ]
  },
  {
   "cell_type": "code",
   "execution_count": 24,
   "id": "fb3433d8-0651-4a17-9f8b-031c89ac43f2",
   "metadata": {},
   "outputs": [
    {
     "name": "stdin",
     "output_type": "stream",
     "text": [
      "Enter a number from 1 to 7: 0\n"
     ]
    },
    {
     "name": "stdout",
     "output_type": "stream",
     "text": [
      "Invalid Number\n"
     ]
    }
   ],
   "source": [
    "day=int(input(\"Enter a number from 1 to 7:\"))\n",
    "if day == 1:\n",
    "    print(\"Today is Monday\")\n",
    "elif day == 2:\n",
    "    print(\"Today is Tuesday\")\n",
    "elif day == 3:\n",
    "    print(\"Today is Wensday\")\n",
    "elif day == 4:\n",
    "    print(\"Today is Thursday\")\n",
    "elif day == 5:\n",
    "    print(\"Today is Friday\")\n",
    "elif day == 6:\n",
    "    print(\"Today is Saturday\")\n",
    "elif day == 7:\n",
    "    print(\"Today is Sunday\")\n",
    "else:\n",
    "    print(\"Invalid Number\")"
   ]
  },
  {
   "cell_type": "markdown",
   "id": "59d10229-d03e-42d2-84e9-3cfb8f835dca",
   "metadata": {},
   "source": [
    "## 7. Write a program that prompts the user to enter their weight (in kilograms) and height\n",
    "(in meters). The program should calculate the Body Mass Index (BMI) using the formula:\n",
    "BMI = weight / (height * height). The program should then classify the BMI into one of\n",
    "the following categories:\n",
    "less than 18.5 - Underweight\n",
    "BMI between 18.5 and 24.9 - Normal weight\n",
    "BMI between 25 and 29.9 - Overweight\n",
    "BMI 30 or greater - Obesity "
   ]
  },
  {
   "cell_type": "code",
   "execution_count": 2,
   "id": "1e8e92bc-550c-4e56-856b-d9691c33e909",
   "metadata": {},
   "outputs": [
    {
     "name": "stdin",
     "output_type": "stream",
     "text": [
      "Enter your weight in Kg: 75\n",
      "Enter your height in meter: 1.79832\n"
     ]
    },
    {
     "name": "stdout",
     "output_type": "stream",
     "text": [
      "Normal Weight\n"
     ]
    }
   ],
   "source": [
    "weight=float(input(\"Enter your weight in Kg:\"))\n",
    "height=float(input(\"Enter your height in meter:\"))\n",
    "BMI= weight / (height * height)\n",
    "if BMI < 18.5:\n",
    "    print(\"Under Weight\")\n",
    "elif BMI >=18.5 and BMI <=24.9:\n",
    "    print(\"Normal Weight\")\n",
    "elif BMI >=25 and BMI <=29.9:\n",
    "    print(\"Overweight\")\n",
    "elif BMI >30:\n",
    "    print(\"Obesity\")"
   ]
  },
  {
   "cell_type": "markdown",
   "id": "e6cb02ae-097d-437f-a89a-3fa3445d0688",
   "metadata": {},
   "source": [
    "## 8. The marks obtained by a student in 3 different subjects are input by the user. Your\n",
    "program should calculate the average of subjects and display the grade. The student\n",
    "gets a grade as per the following rules:\n",
    "Average Grade\n",
    "90-100 A\n",
    "80-89 B\n",
    "70-79 C\n",
    "60-69 D\n",
    "0-59 F \n"
   ]
  },
  {
   "cell_type": "code",
   "execution_count": 60,
   "id": "1f86d719-9e81-4c84-9365-087723122ee4",
   "metadata": {},
   "outputs": [
    {
     "name": "stdin",
     "output_type": "stream",
     "text": [
      "Enter the marks of English: 80\n",
      "Enter the marks of Math: 80\n",
      "Enter the marks of Computer: 80\n"
     ]
    },
    {
     "name": "stdout",
     "output_type": "stream",
     "text": [
      "Your average is 80.00 and your grade is B\n"
     ]
    }
   ],
   "source": [
    "english=float(input(\"Enter the marks of English:\"))\n",
    "math=float(input(\"Enter the marks of Math:\"))\n",
    "computer=float(input(\"Enter the marks of Computer:\"))\n",
    "average=(english+math+computer)/3\n",
    "if average >=90:\n",
    "    print(f\"Your average is {average:.2f} and your grade is A\")\n",
    "elif average >=80 and average <=89:\n",
    "    print(f\"Your average is {average:.2f} and your grade is B\")\n",
    "elif average >=70 and average <=79:\n",
    "    print(f\"Your average is {average:.2f} and your grade is C\")\n",
    "elif average >=60 and average <=69:\n",
    "    print(f\"Your average is {average:.2f} and your grade is D\")\n",
    "elif average >=0 and average <=59:\n",
    "    print(f\"Your average is {average:.2f} and your grade is F\")"
   ]
  },
  {
   "cell_type": "markdown",
   "id": "de27d784-139e-47b6-a20a-cb82027c652e",
   "metadata": {},
   "source": [
    "## 9. The roots of the quadratic equation ax2\n",
    " + bx + c = 0, a ≠ 0 are given by the following \n",
    "formula: \n",
    "In this formula, the term b2\n",
    " - 4ac is called the discriminant. If b2\n",
    " - 4ac = 0, then the \n",
    "equation has two equal roots. \n",
    "If b2`\n",
    " - 4ac > 0, the equation has two real roots. If b2\n",
    " - 4ac < 0, the equation has two \n",
    "complex roots. \n",
    "Write a program that prompts the user to input the value of a (the coefficient of x2\n",
    "), b \n",
    "(the coefficient of x), and c (the constant term) and outputs the roots of the quadratic \n",
    "equation."
   ]
  },
  {
   "cell_type": "code",
   "execution_count": 2,
   "id": "3e05c1e3-bfa9-42d4-8847-81e766c330ec",
   "metadata": {},
   "outputs": [
    {
     "name": "stdin",
     "output_type": "stream",
     "text": [
      "Enter the value of b: 2\n",
      "Enter the value of a: 3\n",
      "Enter the value of c: 4\n"
     ]
    },
    {
     "name": "stdout",
     "output_type": "stream",
     "text": [
      "\n",
      "        Then value of x = -28.0\n",
      "\n"
     ]
    }
   ],
   "source": [
    "b=float(input(\"Enter the value of b:\"))\n",
    "a=float(input(\"Enter the value of a:\"))\n",
    "c=float(input(\"Enter the value of c:\"))\n",
    "if b<0:\n",
    "    qf=(-b*-b**2 - 4*a*c)/2\n",
    "else:\n",
    "    qf=(-b*b**2 - 4*a*c)/2\n",
    "print(f\"\"\"\n",
    "        Then value of x = {qf}\n",
    "\"\"\")"
   ]
  },
  {
   "cell_type": "markdown",
   "id": "156b4ed9-9288-4ea0-8247-a8ba17da6b93",
   "metadata": {},
   "source": [
    "## 10. Write a program that prompts the user to enter three numbers and sorts them in \n",
    "## ascending order. The program should print the sorted numbers. "
   ]
  },
  {
   "cell_type": "code",
   "execution_count": 15,
   "id": "9e9f8239-b435-42c8-8ef9-d06516c3e6dc",
   "metadata": {},
   "outputs": [
    {
     "name": "stdin",
     "output_type": "stream",
     "text": [
      "Enter your first number: 5\n",
      "Enter your second number: 3\n",
      "Enter your third number: 2\n"
     ]
    },
    {
     "name": "stdout",
     "output_type": "stream",
     "text": [
      "The sorted Numbers are :[2, 3, 5]\n"
     ]
    }
   ],
   "source": [
    "n1=int(input(\"Enter your first number:\"))\n",
    "n2=int(input(\"Enter your second number:\"))\n",
    "n3=int(input(\"Enter your third number:\"))\n",
    "numbers=[n1,n2,n3]\n",
    "numbers.sort()\n",
    "print(f\"The sorted Numbers are :{numbers}\")"
   ]
  },
  {
   "cell_type": "markdown",
   "id": "aea578e8-58a0-40a0-ae28-00f28d6583ad",
   "metadata": {},
   "source": [
    "## 11. Write a program that prompts the user to input three integers and outputs the largest. "
   ]
  },
  {
   "cell_type": "code",
   "execution_count": 17,
   "id": "ee306df8-f1fb-4c80-93c8-899e9628fb9f",
   "metadata": {},
   "outputs": [
    {
     "name": "stdin",
     "output_type": "stream",
     "text": [
      "Enter your first number: 8\n",
      "Enter your second number: 423\n",
      "Enter your third number: 4\n"
     ]
    },
    {
     "name": "stdout",
     "output_type": "stream",
     "text": [
      "423 is the largest\n"
     ]
    }
   ],
   "source": [
    "n1=int(input(\"Enter your first number:\"))\n",
    "n2=int(input(\"Enter your second number:\"))\n",
    "n3=int(input(\"Enter your third number:\"))\n",
    "if n1>n2 and n1>n3:\n",
    "    print(f\"{n1} is the largest\")\n",
    "elif n2>n1 and n2>n3:\n",
    "    print(f\"{n2} is the largest\")\n",
    "elif n3>n1 and n3>n2:\n",
    "    print(f\"{n3} is the largest\")"
   ]
  },
  {
   "cell_type": "markdown",
   "id": "5966ff06-ba5f-4953-a2b8-b1b2ec7ce16b",
   "metadata": {},
   "source": [
    "## 12. Write a program that prompts the user to input a character and determine the \n",
    "## character is vowel or consonant. "
   ]
  },
  {
   "cell_type": "code",
   "execution_count": 21,
   "id": "ffc8234d-9ec1-4665-a207-c2a97a7a16a9",
   "metadata": {},
   "outputs": [
    {
     "name": "stdin",
     "output_type": "stream",
     "text": [
      "Enter a Aplhabet: t\n"
     ]
    },
    {
     "name": "stdout",
     "output_type": "stream",
     "text": [
      "t is constant\n"
     ]
    }
   ],
   "source": [
    "text=input(\"Enter a Aplhabet:\")\n",
    "if text == \"a\":\n",
    "    print(f\"{text} is  Vowel\")\n",
    "elif text == \"e\":\n",
    "    print(f\"{text} is  Vowel\")\n",
    "elif text == \"i\":\n",
    "    print(f\"{text} is  Vowel\")\n",
    "elif text == \"o\":\n",
    "    print(f\"{text} is  Vowel\")\n",
    "elif text == \"u\":\n",
    "    print(f\"{text} is  Vowel\")\n",
    "else:\n",
    "    print(f\"{text} is constant\")\n",
    "    "
   ]
  },
  {
   "cell_type": "markdown",
   "id": "281fe4b0-7267-4185-b100-3c3f9996e4af",
   "metadata": {},
   "source": [
    "## 13. Write a program that prompts the user to input a year and determine whether the \n",
    "year is a leap year or not. \n",
    "Leap Years are any year that can be evenly divided by 4. A year that is evenly divisible by \n",
    "100 is a leap year only if it is also evenly divisible by 400. Example: \n",
    "1992 Leap Year \n",
    "2000 Leap Year \n",
    "1900 NOT a Leap Year \n",
    "1995 NOT a Leap Year `"
   ]
  },
  {
   "cell_type": "code",
   "execution_count": 11,
   "id": "f7ac4ad6-bb71-444d-9c9d-68da2d55e0a0",
   "metadata": {},
   "outputs": [
    {
     "name": "stdin",
     "output_type": "stream",
     "text": [
      "Enter any Number: 4\n"
     ]
    },
    {
     "name": "stdout",
     "output_type": "stream",
     "text": [
      "Its a leap year\n"
     ]
    }
   ],
   "source": [
    "year=int(input(\"Enter any Number:\"))\n",
    "if year % 4 :\n",
    "    print(\"Its not a leap year:\")\n",
    "else:\n",
    "    print(\"Its a leap year\")"
   ]
  },
  {
   "cell_type": "markdown",
   "id": "58662c82-f12a-4771-9036-47524de9590a",
   "metadata": {},
   "source": [
    "## 14. Write a program that prompts the user to input number of calls and calculate the \n",
    "## monthly telephone bills as per the following rule: \n",
    "    -Minimum Rs. 200 for up to 100 calls. \n",
    "    -Plus Rs. 0.60 per call for next 50 calls. \n",
    "    -Plus Rs. 0.50 per call for next 50 calls. \n",
    "    -Plus Rs. 0.40 per call for any call beyond 200 calls."
   ]
  },
  {
   "cell_type": "code",
   "execution_count": 4,
   "id": "d93b3722-0970-4b82-9b5d-cdc3ff8a1e3a",
   "metadata": {},
   "outputs": [
    {
     "name": "stdin",
     "output_type": "stream",
     "text": [
      "Enter the number of calls: 120\n"
     ]
    },
    {
     "name": "stdout",
     "output_type": "stream",
     "text": [
      "\n",
      "            Telephone Bill\n",
      "----------------------------------------\n",
      "    Numbers of calls in month = 120\n",
      "    Total bill                : 212.0\n",
      "\n"
     ]
    }
   ],
   "source": [
    "calls=int(input(\"Enter the number of calls:\"))\n",
    "if calls <= 100:\n",
    "    bill = 200\n",
    "elif calls <= 150:\n",
    "    bill = 200 + (calls - 100) * 0.60\n",
    "elif calls <= 200:\n",
    "    bill = 200 + 50 * 0.60 + (calls - 150) * 0.50\n",
    "else:\n",
    "    bill = 200 + 50 * 0.60 + 50 * 0.50 + (calls - 200) * 0.40\n",
    "print(f\"\"\"\n",
    "            Telephone Bill\n",
    "----------------------------------------\n",
    "    Numbers of calls in month = {calls}\n",
    "    Total bill                : {bill}\n",
    "\"\"\")"
   ]
  },
  {
   "cell_type": "code",
   "execution_count": null,
   "id": "69e05e7b-b666-4042-a2e8-860fde00ace9",
   "metadata": {},
   "outputs": [],
   "source": []
  }
 ],
 "metadata": {
  "kernelspec": {
   "display_name": "Python 3 (ipykernel)",
   "language": "python",
   "name": "python3"
  },
  "language_info": {
   "codemirror_mode": {
    "name": "ipython",
    "version": 3
   },
   "file_extension": ".py",
   "mimetype": "text/x-python",
   "name": "python",
   "nbconvert_exporter": "python",
   "pygments_lexer": "ipython3",
   "version": "3.12.7"
  }
 },
 "nbformat": 4,
 "nbformat_minor": 5
}
